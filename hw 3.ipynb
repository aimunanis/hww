{
 "cells": [
  {
   "cell_type": "code",
   "execution_count": 1,
   "metadata": {},
   "outputs": [
    {
     "name": "stdout",
     "output_type": "stream",
     "text": [
      "enter first number77\n",
      "enter second number66\n",
      "enter operator*\n",
      "5082\n"
     ]
    }
   ],
   "source": [
    "a=int(input(\"enter first number\"))\n",
    "b=int(input(\"enter second number\"))\n",
    "opt=input(\"enter operator\")\n",
    "if opt == '+' :\n",
    "    c= a+b\n",
    "    print(c)\n",
    "elif opt == '-' :\n",
    "    c=a-b\n",
    "    print(c)\n",
    "elif opt == '*' :\n",
    "    c=a*b\n",
    "    print(c)\n",
    "else:\n",
    "    (\"enter correct answer\")"
   ]
  },
  {
   "cell_type": "code",
   "execution_count": 2,
   "metadata": {},
   "outputs": [
    {
     "name": "stdout",
     "output_type": "stream",
     "text": [
      "numeric value is : 66\n",
      "numeric value is : 99\n",
      "numeric value is : 4\n"
     ]
    }
   ],
   "source": [
    "arr=['mn',66,99,4,'zz']\n",
    "for num in arr :\n",
    "    if type(num) == int or type(num) == float :\n",
    "        print(f\"numeric value is : {num}\")\n"
   ]
  },
  {
   "cell_type": "code",
   "execution_count": 3,
   "metadata": {},
   "outputs": [
    {
     "name": "stdout",
     "output_type": "stream",
     "text": [
      "99\n"
     ]
    }
   ],
   "source": [
    "dic ={'a' : 22, 'b' :33, 'c' :44}\n",
    "sum= sum(dic.values())\n",
    "print (sum)"
   ]
  },
  {
   "cell_type": "code",
   "execution_count": null,
   "metadata": {},
   "outputs": [],
   "source": []
  }
 ],
 "metadata": {
  "kernelspec": {
   "display_name": "Python 3",
   "language": "python",
   "name": "python3"
  },
  "language_info": {
   "codemirror_mode": {
    "name": "ipython",
    "version": 3
   },
   "file_extension": ".py",
   "mimetype": "text/x-python",
   "name": "python",
   "nbconvert_exporter": "python",
   "pygments_lexer": "ipython3",
   "version": "3.7.4"
  }
 },
 "nbformat": 4,
 "nbformat_minor": 2
}
