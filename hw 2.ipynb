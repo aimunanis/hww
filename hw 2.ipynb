{
 "cells": [
  {
   "cell_type": "code",
   "execution_count": 1,
   "metadata": {},
   "outputs": [
    {
     "data": {
      "text/plain": [
       "2"
      ]
     },
     "execution_count": 1,
     "metadata": {},
     "output_type": "execute_result"
    }
   ],
   "source": [
    "\n",
    "arr = [\"mn\", \"55\"]\n",
    "len (arr)"
   ]
  },
  {
   "cell_type": "code",
   "execution_count": 2,
   "metadata": {},
   "outputs": [
    {
     "data": {
      "text/plain": [
       "100"
      ]
     },
     "execution_count": 2,
     "metadata": {},
     "output_type": "execute_result"
    }
   ],
   "source": [
    "arr=[45,55]\n",
    "sum (arr)\n"
   ]
  },
  {
   "cell_type": "code",
   "execution_count": 3,
   "metadata": {},
   "outputs": [
    {
     "data": {
      "text/plain": [
       "13"
      ]
     },
     "execution_count": 3,
     "metadata": {},
     "output_type": "execute_result"
    }
   ],
   "source": [
    "arr=[12,11,13]\n",
    "max(arr)"
   ]
  },
  {
   "cell_type": "code",
   "execution_count": 4,
   "metadata": {},
   "outputs": [
    {
     "name": "stdout",
     "output_type": "stream",
     "text": [
      "[1, 2, 3, 4]\n"
     ]
    }
   ],
   "source": [
    "ar=[11,12,1,2,3,4,5]\n",
    "arr=[]\n",
    "for num in ar:\n",
    "    if num < 5 :\n",
    "        arr.append(num)\n",
    "print(arr)"
   ]
  },
  {
   "cell_type": "code",
   "execution_count": 5,
   "metadata": {},
   "outputs": [
    {
     "name": "stdout",
     "output_type": "stream",
     "text": [
      "enter urdu marks=77\n",
      "enter english marks=77\n",
      "enter maths marks=99\n",
      "enter science marks=22\n",
      "enter arts marks=11\n",
      "a+\n"
     ]
    }
   ],
   "source": [
    "urdu=int(input(\"enter urdu marks=\"))\n",
    "english=int(input(\"enter english marks=\"))\n",
    "maths=int(input(\"enter maths marks=\"))\n",
    "science=int(input (\"enter science marks=\"))\n",
    "arts=int(input (\"enter arts marks=\"))\n",
    "total=urdu+english+maths+science+arts\n",
    "percentage=(total/5)*100\n",
    "if percentage >80 :\n",
    " print (\"a+\")\n",
    "elif percentage > 70 and percentage<= 80 :\n",
    " print (\"a\")\n",
    "elif percentage > 60 and percentage <= 70 :\n",
    " print (\"b\")\n",
    "else :\n",
    "    print (\"just pass\")"
   ]
  },
  {
   "cell_type": "markdown",
   "metadata": {},
   "source": [
    "###### num= int(input(\"enter any number\"))\n",
    "mod = num %2\n",
    "if mod >0 :\n",
    "    print (\"odd\")\n",
    "else :\n",
    "    print (\"even\")"
   ]
  },
  {
   "cell_type": "markdown",
   "metadata": {},
   "source": [
    "###### "
   ]
  }
 ],
 "metadata": {
  "kernelspec": {
   "display_name": "Python 3",
   "language": "python",
   "name": "python3"
  },
  "language_info": {
   "codemirror_mode": {
    "name": "ipython",
    "version": 3
   },
   "file_extension": ".py",
   "mimetype": "text/x-python",
   "name": "python",
   "nbconvert_exporter": "python",
   "pygments_lexer": "ipython3",
   "version": "3.7.4"
  }
 },
 "nbformat": 4,
 "nbformat_minor": 2
}
